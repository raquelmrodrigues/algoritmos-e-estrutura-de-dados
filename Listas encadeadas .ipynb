{
 "cells": [
  {
   "cell_type": "markdown",
   "id": "faa9e2fb",
   "metadata": {},
   "source": [
    "# Lista encadeada simples"
   ]
  },
  {
   "cell_type": "code",
   "execution_count": 1,
   "id": "09b0895a",
   "metadata": {},
   "outputs": [],
   "source": [
    "import numpy as np"
   ]
  },
  {
   "cell_type": "code",
   "execution_count": null,
   "id": "5219af87",
   "metadata": {},
   "outputs": [],
   "source": [
    "class No:\n",
    "    def __init__(self, valor):\n",
    "        self.valor = valor\n",
    "        self.proximo = None\n",
    "    \n",
    "    def mostra_no(self):\n",
    "        print(self.valor)\n",
    "        "
   ]
  },
  {
   "cell_type": "code",
   "execution_count": 3,
   "id": "5ef22a79",
   "metadata": {},
   "outputs": [],
   "source": [
    "class ListaEncadeada:\n",
    "    def __init__(self):\n",
    "        self.primeiro = None\n",
    "        \n",
    "    def insere_inicio(self, valor):\n",
    "        novo = No(valor)\n",
    "        novo.proximo = self.primeiro\n",
    "        self.primeiro = novo\n",
    "        \n",
    "    def mostrar(self):\n",
    "        atual = self.primeiro\n",
    "        while atual != None:\n",
    "            atual.mostra_no()\n",
    "            atual = atual.proximo\n",
    "            \n",
    "    def pesquisa(self, valor):\n",
    "        if self.primeiro == None:\n",
    "            print('Lista vazia')\n",
    "            return None\n",
    "        atual = self.primeiro\n",
    "        while atual.valor != valor:\n",
    "            if atual.proximo == None:\n",
    "                return None\n",
    "            else:\n",
    "                atual = atual.proximo\n",
    "            return atual\n",
    "    \n",
    "    def excluir_inicio(self):\n",
    "        if self.primeiro == None:\n",
    "            print('Lista vazia')\n",
    "            return None\n",
    "        self.primeiro = self.primeiro.proximo\n",
    "        return temp\n",
    "        \n",
    "        \n",
    "    def excluir_posicao(self, valor):\n",
    "        atual = self.primeiro\n",
    "        anterior = self.primeiro\n",
    "        while atual.valor != valor:\n",
    "            if atual.proximo == None:\n",
    "                return None\n",
    "            else:\n",
    "                anterior = atual\n",
    "                atual = atual.proimo\n",
    "        if atual == self.primeiro:\n",
    "            self.primeiro = self.primeiro.proximo\n",
    "        else:\n",
    "            anterior.proximo = atual.proximo\n",
    "        "
   ]
  },
  {
   "cell_type": "code",
   "execution_count": null,
   "id": "3f39e473",
   "metadata": {},
   "outputs": [],
   "source": []
  }
 ],
 "metadata": {
  "kernelspec": {
   "display_name": "Python 3 (ipykernel)",
   "language": "python",
   "name": "python3"
  },
  "language_info": {
   "codemirror_mode": {
    "name": "ipython",
    "version": 3
   },
   "file_extension": ".py",
   "mimetype": "text/x-python",
   "name": "python",
   "nbconvert_exporter": "python",
   "pygments_lexer": "ipython3",
   "version": "3.9.7"
  }
 },
 "nbformat": 4,
 "nbformat_minor": 5
}
