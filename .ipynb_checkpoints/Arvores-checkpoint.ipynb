{
 "cells": [
  {
   "cell_type": "markdown",
   "id": "243d66bd",
   "metadata": {},
   "source": [
    "# Árvores binárias de busca"
   ]
  },
  {
   "cell_type": "code",
   "execution_count": 44,
   "id": "d13b4780",
   "metadata": {},
   "outputs": [],
   "source": [
    "class No:\n",
    "    def __init__(self, valor):\n",
    "        self.valor = valor\n",
    "        self.esquerda = None\n",
    "        self.direita = None\n",
    "    def mostra_no(self):\n",
    "        print(self.valor)"
   ]
  },
  {
   "cell_type": "code",
   "execution_count": 78,
   "id": "86261bf7",
   "metadata": {},
   "outputs": [],
   "source": [
    "class ArvoreBinariaBusca:\n",
    "    def __init__(self):\n",
    "        self.raiz = None\n",
    "        self.ligacoes = []\n",
    "    \n",
    "    def inserir(self, valor):\n",
    "        novo = No(valor)\n",
    "        # se a arvore estiver vazia\n",
    "        if self.raiz == None:\n",
    "            self.raiz = novo\n",
    "        else:\n",
    "            atual = self.raiz\n",
    "            while True:\n",
    "                pai = atual\n",
    "                #esquerda\n",
    "                if valor < atual.valor:\n",
    "                    atual = atual.esquerda\n",
    "                    if atual == None:\n",
    "                        pai.esquerda = novo\n",
    "                        self.ligacoes.append(str(pai.valor) + '->' + str(novo.valor))\n",
    "                        return\n",
    "                #direita\n",
    "                else:\n",
    "                    atual = atual.direita\n",
    "                    if atual == None:\n",
    "                        pai.direita = novo\n",
    "                        self.ligacoes.append(str(pai.valor) + '->' + str(novo.valor))\n",
    "                        return\n",
    "                    \n",
    "    def pesquisar(self, valor):\n",
    "        atual = self.raiz\n",
    "        while atual.valor != valor:\n",
    "            if valor < atual.valor:\n",
    "                atual = atual.esquerda\n",
    "            else:\n",
    "                atual = atual.direita\n",
    "            if atual == None:\n",
    "                return None\n",
    "        return atual\n",
    "    \n",
    "    #raiz, esquerda, direita\n",
    "    def pre_ordem(self, no):\n",
    "        if no != None:\n",
    "            print(no.valor)\n",
    "            self.pre_ordem(no.esquerda)\n",
    "            self.pre_ordem(no.direita)\n",
    "            \n",
    "    #esquerda, raiz, direita\n",
    "    def em_ordem(self,no):\n",
    "        if no != None:\n",
    "            self.em_ordem(no.esquerda)\n",
    "            print(no.valor)\n",
    "            self.em_ordem(no.direita)\n",
    "            \n",
    "    #esquerda, direita, raiz\n",
    "    def pos_ordem(self, no):\n",
    "        if no != None:\n",
    "            self.pos_ordem(no.esquerda)\n",
    "            self.pos_ordem(no.direita)\n",
    "            print(no.valor)\n",
    "            \n",
    "    def excluir(self, valor):\n",
    "        if self.raiz == None:\n",
    "            print('A árvores está vazia')\n",
    "            return\n",
    "        \n",
    "    #encontrar o nó\n",
    "        atual = self.raiz\n",
    "        pai = self.raiz\n",
    "        e_esquerda = True\n",
    "        while atual.valor != valor:\n",
    "            pai = atual\n",
    "            #esquerda\n",
    "            if valor < atual.valor:\n",
    "                e_esquerda = True\n",
    "                atual = atual.esquerda\n",
    "            #direita\n",
    "            else:\n",
    "                e_esquerda = False\n",
    "                atual = atual.direita\n",
    "            if atual == None:\n",
    "                return False\n",
    "        \n",
    "        # o nó a ser apagado é uma folha\n",
    "        if atual.esquerda == None and atual.direita == None:\n",
    "            if atual == self.raiz:\n",
    "                self.raiz = None\n",
    "            elif e_esquerda == True:\n",
    "                self.ligacoes.remove(srt(pai.valor) + '->' + str(atual.valor))\n",
    "                pai.esuqerda = None\n",
    "            else:\n",
    "                self.ligacoes.remove(srt(pai.valor) + '->' + str(atual.valor))\n",
    "                pai.direita = None\n",
    "                \n",
    "        # o nó a ser apagado não possio filho na direita\n",
    "        elif atual.direita == None:\n",
    "            if atual == self.raiz:\n",
    "                self.raiz = atual.esquerda\n",
    "            elif e_esquerda == True:\n",
    "                pai.esuqerda = atual.esquerda\n",
    "            else:\n",
    "                pai.direita = atual.esquerda\n",
    "        \n",
    "        # o nó a ser apagado não possio filho na direita\n",
    "        elif atual.esuqerda == None:\n",
    "            if atual == self.raiz:\n",
    "                self.raiz = atual.direita\n",
    "            elif e_esquerda == True:\n",
    "                pai.esquerda = atual.direita\n",
    "            else:\n",
    "                pai.direita = atual.direita\n",
    "                \n",
    "        #o nó possui 2 filhos\n",
    "        else:\n",
    "            sucessor = self.get_sucessor(atual)\n",
    "            if atual == self.raiz:\n",
    "                self.raiz = sucessor\n",
    "            elif e_esquerda == True:\n",
    "                pai.esquerda =sucessor\n",
    "            else:\n",
    "                pai.direita = sucessor\n",
    "            \n",
    "            sucessor.esuqerda = atual.esquerda\n",
    "        return True\n",
    "\n",
    "    \n",
    "        def get_sucessor(self, no):\n",
    "            pai_sucessor = no\n",
    "            sucessor = no\n",
    "            atual = no.direita\n",
    "            while atual != None:\n",
    "                pai_sucessor = sucessor\n",
    "                sucessor = atual\n",
    "                atual = atual.esquerda\n",
    "            if sucessor != no.direita:\n",
    "                pai_sucessor.esquerda = sucessor.direita\n",
    "                sucessor.direita = no.direita\n",
    "            return sucessor"
   ]
  },
  {
   "cell_type": "markdown",
   "id": "c3af9c88",
   "metadata": {},
   "source": [
    "### Inserção"
   ]
  },
  {
   "cell_type": "code",
   "execution_count": 67,
   "id": "505a68d6",
   "metadata": {},
   "outputs": [],
   "source": [
    "arvore = ArvoreBinariaBusca()\n",
    "arvore.inserir(53)\n",
    "arvore.inserir(30)\n",
    "arvore.inserir(14)\n",
    "arvore.inserir(39)\n",
    "arvore.inserir(9)\n",
    "arvore.inserir(23)\n",
    "arvore.inserir(34)\n",
    "arvore.inserir(49)\n",
    "arvore.inserir(72)\n",
    "arvore.inserir(61)\n",
    "arvore.inserir(84)\n",
    "arvore.inserir(79)"
   ]
  },
  {
   "cell_type": "markdown",
   "id": "2a910d4e",
   "metadata": {},
   "source": [
    "### Vizualizar Árvore"
   ]
  },
  {
   "cell_type": "code",
   "execution_count": 72,
   "id": "1b2b49bb",
   "metadata": {},
   "outputs": [
    {
     "data": {
      "text/plain": [
       "['53->30',\n",
       " '30->14',\n",
       " '30->39',\n",
       " '14->9',\n",
       " '14->23',\n",
       " '39->34',\n",
       " '39->49',\n",
       " '53->72',\n",
       " '72->61',\n",
       " '72->84',\n",
       " '84->79']"
      ]
     },
     "execution_count": 72,
     "metadata": {},
     "output_type": "execute_result"
    }
   ],
   "source": [
    "arvore.ligacoes"
   ]
  },
  {
   "cell_type": "markdown",
   "id": "cd636818",
   "metadata": {},
   "source": [
    "### Pesquisar"
   ]
  },
  {
   "cell_type": "code",
   "execution_count": 68,
   "id": "6a762431",
   "metadata": {},
   "outputs": [
    {
     "data": {
      "text/plain": [
       "<__main__.No at 0x13460d5ef70>"
      ]
     },
     "execution_count": 68,
     "metadata": {},
     "output_type": "execute_result"
    }
   ],
   "source": [
    "arvore.pesquisar(39)"
   ]
  },
  {
   "cell_type": "markdown",
   "id": "050b4b51",
   "metadata": {},
   "source": [
    "### Travessia"
   ]
  },
  {
   "cell_type": "code",
   "execution_count": 69,
   "id": "75c147f2",
   "metadata": {},
   "outputs": [
    {
     "name": "stdout",
     "output_type": "stream",
     "text": [
      "53\n",
      "30\n",
      "14\n",
      "9\n",
      "23\n",
      "39\n",
      "34\n",
      "49\n",
      "72\n",
      "61\n",
      "84\n",
      "79\n"
     ]
    }
   ],
   "source": [
    "arvore.pre_ordem(arvore.raiz)"
   ]
  },
  {
   "cell_type": "code",
   "execution_count": 70,
   "id": "d89697f8",
   "metadata": {},
   "outputs": [
    {
     "name": "stdout",
     "output_type": "stream",
     "text": [
      "9\n",
      "14\n",
      "23\n",
      "30\n",
      "34\n",
      "39\n",
      "49\n",
      "53\n",
      "61\n",
      "72\n",
      "79\n",
      "84\n"
     ]
    }
   ],
   "source": [
    "arvore.em_ordem(arvore.raiz)"
   ]
  },
  {
   "cell_type": "code",
   "execution_count": 50,
   "id": "e01913e9",
   "metadata": {},
   "outputs": [
    {
     "name": "stdout",
     "output_type": "stream",
     "text": [
      "9\n",
      "23\n",
      "14\n",
      "34\n",
      "49\n",
      "39\n",
      "30\n",
      "61\n",
      "79\n",
      "84\n",
      "72\n",
      "53\n"
     ]
    }
   ],
   "source": [
    "arvore.pos_ordem(arvore.raiz)"
   ]
  },
  {
   "cell_type": "markdown",
   "id": "1987b2ba",
   "metadata": {},
   "source": [
    "### Excluir"
   ]
  },
  {
   "cell_type": "code",
   "execution_count": 75,
   "id": "676693fc",
   "metadata": {},
   "outputs": [],
   "source": [
    "arvore.excluir(9)"
   ]
  }
 ],
 "metadata": {
  "kernelspec": {
   "display_name": "Python 3",
   "language": "python",
   "name": "python3"
  },
  "language_info": {
   "codemirror_mode": {
    "name": "ipython",
    "version": 3
   },
   "file_extension": ".py",
   "mimetype": "text/x-python",
   "name": "python",
   "nbconvert_exporter": "python",
   "pygments_lexer": "ipython3",
   "version": "3.8.8"
  }
 },
 "nbformat": 4,
 "nbformat_minor": 5
}
