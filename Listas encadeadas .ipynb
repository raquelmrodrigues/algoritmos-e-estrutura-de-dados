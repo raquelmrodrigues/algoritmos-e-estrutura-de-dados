{
 "cells": [
  {
   "cell_type": "markdown",
   "id": "cbe84a8a",
   "metadata": {},
   "source": [
    "# Lista encadeada simples"
   ]
  },
  {
   "cell_type": "code",
   "execution_count": 1,
   "id": "71c95959",
   "metadata": {},
   "outputs": [],
   "source": [
    "import numpy as np"
   ]
  },
  {
   "cell_type": "code",
   "execution_count": null,
   "id": "ab755abb",
   "metadata": {},
   "outputs": [],
   "source": [
    "class No:\n",
    "    def __init__(self, valor):\n",
    "        self.valor = valor\n",
    "        self.proximo = None\n",
    "    \n",
    "    def mostra_no(self):\n",
    "        print(self.valor)\n",
    "        "
   ]
  },
  {
   "cell_type": "code",
   "execution_count": 3,
   "id": "89bb1230",
   "metadata": {},
   "outputs": [],
   "source": [
    "class ListaEncadeada:\n",
    "    def __init__(self):\n",
    "        self.primeiro = None\n",
    "        \n",
    "    def insere_inicio(self, valor):\n",
    "        novo = No(valor)\n",
    "        novo.proximo = self.primeiro\n",
    "        self.primeiro = novo\n",
    "        \n",
    "    def mostrar(self):\n",
    "        atual = self.primeiro\n",
    "        while atual != None:\n",
    "            atual.mostra_no()\n",
    "            atual = atual.proximo\n",
    "            \n",
    "    def pesquisa(self, valor):\n",
    "        if self.primeiro == None:\n",
    "            print('Lista vazia')\n",
    "            return None\n",
    "        atual = self.primeiro\n",
    "        while atual.valor != valor:\n",
    "            if atual.proximo == None:\n",
    "                return None\n",
    "            else:\n",
    "                atual = atual.proximo\n",
    "            return atual\n",
    "    \n",
    "    def excluir_inicio(self):\n",
    "        if self.primeiro == None:\n",
    "            print('Lista vazia')\n",
    "            return None\n",
    "        self.primeiro = self.primeiro.proximo\n",
    "        return temp\n",
    "        \n",
    "        \n",
    "    def excluir_posicao(self, valor):\n",
    "        atual = self.primeiro\n",
    "        anterior = self.primeiro\n",
    "        while atual.valor != valor:\n",
    "            if atual.proximo == None:\n",
    "                return None\n",
    "            else:\n",
    "                anterior = atual\n",
    "                atual = atual.proimo\n",
    "        if atual == self.primeiro:\n",
    "            self.primeiro = self.primeiro.proximo\n",
    "        else:\n",
    "            anterior.proximo = atual.proximo\n",
    "        "
   ]
  },
  {
   "cell_type": "markdown",
   "id": "79d2baf7",
   "metadata": {},
   "source": [
    "# Lista encadeada com extremidades duplas"
   ]
  },
  {
   "cell_type": "code",
   "execution_count": null,
   "id": "2e74ba10",
   "metadata": {},
   "outputs": [],
   "source": [
    "class No:\n",
    "    def __init__(self, valor):\n",
    "        self.valor = valor\n",
    "        self.proximo = None\n",
    "    \n",
    "    def mostra_no(self):\n",
    "        print(self.valor)"
   ]
  },
  {
   "cell_type": "code",
   "execution_count": null,
   "id": "3b31a71e",
   "metadata": {},
   "outputs": [],
   "source": [
    "class ListaEncadeadaExtremidadeDupla:\n",
    "    def __init__(self):\n",
    "        self.primeiro = None\n",
    "        self.ultimo = None\n",
    "        \n",
    "    def __lista_vazia(self):\n",
    "        return self.primeiro == None\n",
    "    \n",
    "    def insere_inicio(self, valor):\n",
    "        novo = No(valor)\n",
    "        if self.__lista_vazia():\n",
    "            self.ultimo = novo\n",
    "        novo.proximo = self.primeiro\n",
    "        self.primeiro = novo\n",
    "        \n",
    "    def insere_final(self, valor):\n",
    "        novo = No(valor)\n",
    "        if self.__lista_vazia():\n",
    "            self.primeiro = novo\n",
    "        else:\n",
    "            self.ultimo.proximo = novo\n",
    "        self.ultimo = novo\n",
    "        \n",
    "    def mostrar(self):\n",
    "        if self.__lista_vazia():\n",
    "            return\n",
    "        atual = self.primeiro\n",
    "        while atual != None:\n",
    "            atual.mostra_no()\n",
    "            atual = atual.proximo\n",
    "            \n",
    "    def excluir_inicio(self):\n",
    "        if self.__lista_vazia():\n",
    "            print('A lista está vazia')\n",
    "            return\n",
    "        \n",
    "        temp = self.primeiro\n",
    "        if self.primeiro.proximo == None:\n",
    "            self.ultimo = None\n",
    "        self.primeiro = self.primeiro.proximo\n",
    "        return temp\n",
    "            \n",
    "    "
   ]
  }
 ],
 "metadata": {
  "kernelspec": {
   "display_name": "Python 3 (ipykernel)",
   "language": "python",
   "name": "python3"
  },
  "language_info": {
   "codemirror_mode": {
    "name": "ipython",
    "version": 3
   },
   "file_extension": ".py",
   "mimetype": "text/x-python",
   "name": "python",
   "nbconvert_exporter": "python",
   "pygments_lexer": "ipython3",
   "version": "3.9.7"
  }
 },
 "nbformat": 4,
 "nbformat_minor": 5
}
