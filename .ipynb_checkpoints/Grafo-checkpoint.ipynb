{
 "cells": [
  {
   "cell_type": "markdown",
   "id": "98e1616c",
   "metadata": {},
   "source": [
    "# Grafo"
   ]
  },
  {
   "cell_type": "code",
   "execution_count": 40,
   "id": "fbe759f6",
   "metadata": {},
   "outputs": [],
   "source": [
    "class Vertice:\n",
    "    def __init__(self, rotulo):\n",
    "        self.rotulo = rotulo\n",
    "        self.visitado = False\n",
    "        self.adjacentes = []\n",
    "        \n",
    "    def adiciona_adjacente(self, adjacente):\n",
    "        self.adjacentes.append(adjacente)\n",
    "        \n",
    "    def mostra_adjacentes(self):\n",
    "        for i in self.adjacentes:\n",
    "            print(i.vertice.rotulo, i.custo)"
   ]
  },
  {
   "cell_type": "code",
   "execution_count": 41,
   "id": "92e6dc17",
   "metadata": {},
   "outputs": [],
   "source": [
    "class Adjacente:\n",
    "    def __init__(self, vertice, custo):\n",
    "        self.vertice = vertice\n",
    "        self.custo = custo"
   ]
  },
  {
   "cell_type": "code",
   "execution_count": 42,
   "id": "8a4cd7af",
   "metadata": {},
   "outputs": [],
   "source": [
    "class Grafo:\n",
    "    arad = Vertice('Arad')\n",
    "    zerind = Vertice('Zerind')\n",
    "    oradea = Vertice('Oradea')\n",
    "    sibiu = Vertice('Sibiu')\n",
    "    timisoara = Vertice('Timisoara')\n",
    "    lugoj = Vertice('Lugoj')\n",
    "    mehadia = Vertice('Mehadia')\n",
    "    dobreta = Vertice('Dobreta')\n",
    "    craiova = Vertice('Craiova')\n",
    "    rimnicu = Vertice('Rimnicu')\n",
    "    fagaras = Vertice('Fagaras')\n",
    "    pitesti = Vertice('Pintesti')\n",
    "    bucharest = Vertice('Bucharest')\n",
    "    giurgiu = Vertice('Giurgiu')\n",
    "    \n",
    "    arad.adiciona_adjacente(Adjacente(zerind, 75))\n",
    "    arad.adiciona_adjacente(Adjacente(sibiu, 140))\n",
    "    arad.adiciona_adjacente(Adjacente(timisoara, 118))\n",
    "    \n",
    "    zerind.adiciona_adjacente(Adjacente(arad, 75))\n",
    "    zerind.adiciona_adjacente(Adjacente(oradea, 71))\n",
    "    \n",
    "    oradea.adiciona_adjacente(Adjacente(zerind, 71))\n",
    "    oradea.adiciona_adjacente(Adjacente(sibiu, 151))\n",
    "\n",
    "    sibiu.adiciona_adjacente(Adjacente(oradea, 151))\n",
    "    sibiu.adiciona_adjacente(Adjacente(arad, 140))\n",
    "    sibiu.adiciona_adjacente(Adjacente(fagaras, 99))\n",
    "    sibiu.adiciona_adjacente(Adjacente(rimnicu, 80))\n",
    "\n",
    "    timisoara.adiciona_adjacente(Adjacente(arad, 118))\n",
    "    timisoara.adiciona_adjacente(Adjacente(lugoj, 111))\n",
    "\n",
    "    lugoj.adiciona_adjacente(Adjacente(timisoara, 111))\n",
    "    lugoj.adiciona_adjacente(Adjacente(mehadia, 70))\n",
    "\n",
    "    mehadia.adiciona_adjacente(Adjacente(lugoj, 70))\n",
    "    mehadia.adiciona_adjacente(Adjacente(dobreta, 75))\n",
    "\n",
    "    dobreta.adiciona_adjacente(Adjacente(mehadia, 75))\n",
    "    dobreta.adiciona_adjacente(Adjacente(craiova, 120))\n",
    "\n",
    "    craiova.adiciona_adjacente(Adjacente(dobreta, 120))\n",
    "    craiova.adiciona_adjacente(Adjacente(pitesti, 138))\n",
    "    craiova.adiciona_adjacente(Adjacente(rimnicu, 146))\n",
    "\n",
    "    rimnicu.adiciona_adjacente(Adjacente(craiova, 146))\n",
    "    rimnicu.adiciona_adjacente(Adjacente(sibiu, 80))\n",
    "    rimnicu.adiciona_adjacente(Adjacente(pitesti, 97))\n",
    "\n",
    "    fagaras.adiciona_adjacente(Adjacente(sibiu, 99))\n",
    "    fagaras.adiciona_adjacente(Adjacente(bucharest, 211))\n",
    "\n",
    "    pitesti.adiciona_adjacente(Adjacente(rimnicu, 97))\n",
    "    pitesti.adiciona_adjacente(Adjacente(craiova, 138))\n",
    "    pitesti.adiciona_adjacente(Adjacente(bucharest, 101))\n",
    "\n",
    "    bucharest.adiciona_adjacente(Adjacente(fagaras, 211))\n",
    "    bucharest.adiciona_adjacente(Adjacente(pitesti, 101))\n",
    "    bucharest.adiciona_adjacente(Adjacente(giurgiu, 90))\n",
    "    "
   ]
  },
  {
   "cell_type": "code",
   "execution_count": 43,
   "id": "0ce23e4b",
   "metadata": {},
   "outputs": [],
   "source": [
    "grafo = Grafo()"
   ]
  },
  {
   "cell_type": "code",
   "execution_count": 44,
   "id": "2376f6da",
   "metadata": {},
   "outputs": [
    {
     "name": "stdout",
     "output_type": "stream",
     "text": [
      "Zerind 75\n",
      "Sibiu 140\n",
      "Timisoara 118\n"
     ]
    }
   ],
   "source": [
    "grafo.arad.mostra_adjacentes()"
   ]
  },
  {
   "cell_type": "markdown",
   "id": "07a86017",
   "metadata": {},
   "source": [
    "# Pilha"
   ]
  },
  {
   "cell_type": "code",
   "execution_count": 45,
   "id": "a35ef378",
   "metadata": {},
   "outputs": [],
   "source": [
    "import numpy as np\n",
    "class Pilha:\n",
    "    def __init__(self, capacidade):\n",
    "        self.__capacidade = capacidade\n",
    "        self.__topo = -1\n",
    "\n",
    "    # Mudança do tipo do array\n",
    "        self.__valores = np.empty(self.__capacidade, dtype=object)\n",
    "\n",
    "\n",
    "    def __pilha_cheia(self):\n",
    "        if self.__topo == self.__capacidade - 1:\n",
    "            return True\n",
    "        else:\n",
    "            return False\n",
    "\n",
    "    def __pilha_vazia(self):\n",
    "        if self.__topo == -1:\n",
    "            return True\n",
    "        else:\n",
    "            return False\n",
    "\n",
    "    def empilhar(self, valor):\n",
    "        if self.__pilha_cheia():\n",
    "            print('A pilha está cheia')\n",
    "        else:\n",
    "            self.__topo += 1\n",
    "            self.__valores[self.__topo] = valor\n",
    "\n",
    "    def desempilhar(self):\n",
    "    # Retorna o elemento desempilhado\n",
    "        if self.__pilha_vazia():\n",
    "            print('A pilha está vazia')\n",
    "            return None\n",
    "        else:\n",
    "            temp = self.__valores[self.__topo]\n",
    "            self.__topo -= 1\n",
    "            return temp\n",
    "\n",
    "    def ver_topo(self):\n",
    "        if self.__topo != -1:\n",
    "            return self.__valores[self.__topo]\n",
    "        else:\n",
    "            return -1"
   ]
  },
  {
   "cell_type": "code",
   "execution_count": 46,
   "id": "17103a84",
   "metadata": {},
   "outputs": [],
   "source": [
    "pilha = Pilha(5)\n",
    "pilha.empilhar(grafo.arad)\n",
    "pilha.empilhar(grafo.sibiu)\n",
    "pilha.empilhar(grafo.timisoara)"
   ]
  },
  {
   "cell_type": "code",
   "execution_count": 47,
   "id": "b36e7d24",
   "metadata": {},
   "outputs": [
    {
     "data": {
      "text/plain": [
       "'Timisoara'"
      ]
     },
     "execution_count": 47,
     "metadata": {},
     "output_type": "execute_result"
    }
   ],
   "source": [
    "pilha.ver_topo().rotulo"
   ]
  },
  {
   "cell_type": "markdown",
   "id": "36bfafbd",
   "metadata": {},
   "source": [
    "# Busca em profundidade"
   ]
  },
  {
   "cell_type": "code",
   "execution_count": 48,
   "id": "687cbc64",
   "metadata": {},
   "outputs": [],
   "source": [
    "class BuscaProfundidade:\n",
    "    def __init__(self, inicio):\n",
    "        self.inicio = inicio\n",
    "        self.inicio.visitado = True\n",
    "        self.pilha = Pilha(20)\n",
    "        self.pilha.empilhar(inicio)\n",
    "        \n",
    "    def buscar(self):\n",
    "        topo = self.pilha.ver_topo()\n",
    "        print('Topo: {}'.format(topo.rotulo))\n",
    "        for adjacente in topo.adjacentes:\n",
    "            print('Topo é {}. {} já foi visitada? {}'.format(topo.rotulo, adjacente.vertice.rotulo, adjacente.vertice.visitado))\n",
    "            if adjacente.vertice.visitado == False:\n",
    "                adjacente.vertice.visitado = True\n",
    "                self.pilha.empilhar(adjacente.vertice)\n",
    "                print('Empilhou {}'.format(adjacente.vertice.rotulo))\n",
    "                self.buscar()\n",
    "        print('Desempilhou: {}'.format(self.pilha.desempilhar().rotulo))\n",
    "        print()"
   ]
  },
  {
   "cell_type": "code",
   "execution_count": 49,
   "id": "eef43df0",
   "metadata": {},
   "outputs": [
    {
     "name": "stdout",
     "output_type": "stream",
     "text": [
      "Topo: Arad\n",
      "Topo é Arad. Zerind já foi visitada? False\n",
      "Empilhou Zerind\n",
      "Topo: Zerind\n",
      "Topo é Zerind. Arad já foi visitada? True\n",
      "Topo é Zerind. Oradea já foi visitada? False\n",
      "Empilhou Oradea\n",
      "Topo: Oradea\n",
      "Topo é Oradea. Zerind já foi visitada? True\n",
      "Topo é Oradea. Sibiu já foi visitada? False\n",
      "Empilhou Sibiu\n",
      "Topo: Sibiu\n",
      "Topo é Sibiu. Oradea já foi visitada? True\n",
      "Topo é Sibiu. Arad já foi visitada? True\n",
      "Topo é Sibiu. Fagaras já foi visitada? False\n",
      "Empilhou Fagaras\n",
      "Topo: Fagaras\n",
      "Topo é Fagaras. Sibiu já foi visitada? True\n",
      "Topo é Fagaras. Bucharest já foi visitada? False\n",
      "Empilhou Bucharest\n",
      "Topo: Bucharest\n",
      "Topo é Bucharest. Fagaras já foi visitada? True\n",
      "Topo é Bucharest. Pintesti já foi visitada? False\n",
      "Empilhou Pintesti\n",
      "Topo: Pintesti\n",
      "Topo é Pintesti. Rimnicu já foi visitada? False\n",
      "Empilhou Rimnicu\n",
      "Topo: Rimnicu\n",
      "Topo é Rimnicu. Craiova já foi visitada? False\n",
      "Empilhou Craiova\n",
      "Topo: Craiova\n",
      "Topo é Craiova. Dobreta já foi visitada? False\n",
      "Empilhou Dobreta\n",
      "Topo: Dobreta\n",
      "Topo é Dobreta. Mehadia já foi visitada? False\n",
      "Empilhou Mehadia\n",
      "Topo: Mehadia\n",
      "Topo é Mehadia. Lugoj já foi visitada? False\n",
      "Empilhou Lugoj\n",
      "Topo: Lugoj\n",
      "Topo é Lugoj. Timisoara já foi visitada? False\n",
      "Empilhou Timisoara\n",
      "Topo: Timisoara\n",
      "Topo é Timisoara. Arad já foi visitada? True\n",
      "Topo é Timisoara. Lugoj já foi visitada? True\n",
      "Desempilhou: Timisoara\n",
      "\n",
      "Topo é Lugoj. Mehadia já foi visitada? True\n",
      "Desempilhou: Lugoj\n",
      "\n",
      "Topo é Mehadia. Dobreta já foi visitada? True\n",
      "Desempilhou: Mehadia\n",
      "\n",
      "Topo é Dobreta. Craiova já foi visitada? True\n",
      "Desempilhou: Dobreta\n",
      "\n",
      "Topo é Craiova. Pintesti já foi visitada? True\n",
      "Topo é Craiova. Rimnicu já foi visitada? True\n",
      "Desempilhou: Craiova\n",
      "\n",
      "Topo é Rimnicu. Sibiu já foi visitada? True\n",
      "Topo é Rimnicu. Pintesti já foi visitada? True\n",
      "Desempilhou: Rimnicu\n",
      "\n",
      "Topo é Pintesti. Craiova já foi visitada? True\n",
      "Topo é Pintesti. Bucharest já foi visitada? True\n",
      "Desempilhou: Pintesti\n",
      "\n",
      "Topo é Bucharest. Giurgiu já foi visitada? False\n",
      "Empilhou Giurgiu\n",
      "Topo: Giurgiu\n",
      "Desempilhou: Giurgiu\n",
      "\n",
      "Desempilhou: Bucharest\n",
      "\n",
      "Desempilhou: Fagaras\n",
      "\n",
      "Topo é Sibiu. Rimnicu já foi visitada? True\n",
      "Desempilhou: Sibiu\n",
      "\n",
      "Desempilhou: Oradea\n",
      "\n",
      "Desempilhou: Zerind\n",
      "\n",
      "Topo é Arad. Sibiu já foi visitada? True\n",
      "Topo é Arad. Timisoara já foi visitada? True\n",
      "Desempilhou: Arad\n",
      "\n"
     ]
    }
   ],
   "source": [
    "busca_profundidade = BuscaProfundidade(grafo.arad)\n",
    "busca_profundidade.buscar()"
   ]
  },
  {
   "cell_type": "markdown",
   "id": "1bef6538",
   "metadata": {},
   "source": [
    "# Fila "
   ]
  },
  {
   "cell_type": "code",
   "execution_count": 64,
   "id": "3b926e41",
   "metadata": {},
   "outputs": [],
   "source": [
    "import numpy as np\n",
    "\n",
    "class FilaCircular:\n",
    "  \n",
    "    def __init__(self, capacidade):\n",
    "        self.capacidade = capacidade\n",
    "        self.inicio = 0\n",
    "        self.final = -1\n",
    "        self.numero_elementos = 0\n",
    "    \n",
    "        self.valores = np.empty(self.capacidade, dtype=object)\n",
    "\n",
    "    def __fila_vazia(self):\n",
    "        return self.numero_elementos == 0\n",
    "\n",
    "    def __fila_cheia(self):\n",
    "        return self.numero_elementos == self.capacidade\n",
    "\n",
    "    def enfileirar(self, valor):\n",
    "        if self.__fila_cheia():\n",
    "            print('A fila está cheia')\n",
    "            return\n",
    "    \n",
    "        if self.final == self.capacidade - 1:\n",
    "            self.final = -1\n",
    "        self.final += 1\n",
    "        self.valores[self.final] = valor\n",
    "        self.numero_elementos += 1\n",
    "\n",
    "    def desenfileirar(self):\n",
    "        if self.__fila_vazia():\n",
    "            print('A fila já está vazia')\n",
    "            return\n",
    "\n",
    "        temp = self.valores[self.inicio]\n",
    "        self.inicio += 1\n",
    "        if self.inicio == self.capacidade - 1:\n",
    "            self.inicio = 0\n",
    "        self.numero_elementos -= 1\n",
    "        return temp\n",
    "\n",
    "    def primeiro(self):\n",
    "        if self.__fila_vazia():\n",
    "            return -1\n",
    "        return self.valores[self.inicio]"
   ]
  },
  {
   "cell_type": "code",
   "execution_count": 65,
   "id": "f60174cc",
   "metadata": {},
   "outputs": [],
   "source": [
    "fila = FilaCircular(20)"
   ]
  },
  {
   "cell_type": "code",
   "execution_count": 66,
   "id": "1ae277bd",
   "metadata": {},
   "outputs": [],
   "source": [
    "fila.enfileirar(grafo.arad)\n",
    "fila.enfileirar(grafo.bucharest)\n",
    "fila.enfileirar(grafo.fagaras)"
   ]
  },
  {
   "cell_type": "code",
   "execution_count": 67,
   "id": "b3095026",
   "metadata": {},
   "outputs": [
    {
     "data": {
      "text/plain": [
       "'Arad'"
      ]
     },
     "execution_count": 67,
     "metadata": {},
     "output_type": "execute_result"
    }
   ],
   "source": [
    "fila.primeiro().rotulo"
   ]
  },
  {
   "cell_type": "code",
   "execution_count": 68,
   "id": "e2e4092a",
   "metadata": {},
   "outputs": [
    {
     "data": {
      "text/plain": [
       "'Arad'"
      ]
     },
     "execution_count": 68,
     "metadata": {},
     "output_type": "execute_result"
    }
   ],
   "source": [
    "fila.desenfileirar().rotulo"
   ]
  },
  {
   "cell_type": "markdown",
   "id": "eb05c235",
   "metadata": {},
   "source": [
    "# Busca em largura"
   ]
  },
  {
   "cell_type": "code",
   "execution_count": 73,
   "id": "e2b0b9c1",
   "metadata": {},
   "outputs": [],
   "source": [
    "class BuscaLargura:\n",
    "    def __init__(self, inicio):\n",
    "        self.inicio = inicio\n",
    "        self.inicio.visitado = True\n",
    "        self.fila = FilaCircular(20)\n",
    "        self.fila.enfileirar(inicio)\n",
    "        \n",
    "    def buscar(self):\n",
    "        primeiro = self.fila.primeiro()\n",
    "        print('-----')\n",
    "        print('Primeiro da fila: {}'.format(primeiro.rotulo))\n",
    "        temp = self.fila.desenfileirar()\n",
    "        print('Desenfileirou: {}'.format(temp.rotulo))\n",
    "        for adjacente in primeiro.adjacentes:\n",
    "            print('Primeiro era {}. {} já foi visitado? {}'.format(temp.rotulo, adjacente.vertice.rotulo, adjacente.vertice.visitado))\n",
    "            if adjacente.vertice.visitado == False:\n",
    "                adjacente.vertice.visitado = True\n",
    "                self.fila.enfileirar(adjacente.vertice)\n",
    "                print('Enfileirou: {}'.format(adjacente.vertice.rotulo))\n",
    "        if self.fila.numero_elementos > 0:\n",
    "            self.buscar()\n",
    "                "
   ]
  },
  {
   "cell_type": "code",
   "execution_count": 74,
   "id": "3c474548",
   "metadata": {},
   "outputs": [
    {
     "name": "stdout",
     "output_type": "stream",
     "text": [
      "-----\n",
      "Primeiro da fila: Arad\n",
      "Desenfileirou: Arad\n",
      "Primeiro era Arad. Zerind já foi visitado? True\n",
      "Primeiro era Arad. Sibiu já foi visitado? True\n",
      "Primeiro era Arad. Timisoara já foi visitado? True\n"
     ]
    }
   ],
   "source": [
    "busca_largura = BuscaLargura(grafo.arad)\n",
    "busca_largura.buscar()"
   ]
  },
  {
   "cell_type": "code",
   "execution_count": null,
   "id": "f5c49178",
   "metadata": {},
   "outputs": [],
   "source": []
  }
 ],
 "metadata": {
  "celltoolbar": "Tags",
  "kernelspec": {
   "display_name": "Python 3 (ipykernel)",
   "language": "python",
   "name": "python3"
  },
  "language_info": {
   "codemirror_mode": {
    "name": "ipython",
    "version": 3
   },
   "file_extension": ".py",
   "mimetype": "text/x-python",
   "name": "python",
   "nbconvert_exporter": "python",
   "pygments_lexer": "ipython3",
   "version": "3.9.7"
  }
 },
 "nbformat": 4,
 "nbformat_minor": 5
}
