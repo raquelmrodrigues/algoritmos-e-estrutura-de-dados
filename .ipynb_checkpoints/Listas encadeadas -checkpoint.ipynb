{
 "cells": [
  {
   "cell_type": "markdown",
   "id": "2d9c2e21",
   "metadata": {},
   "source": [
    "# Lista encadeada simples"
   ]
  },
  {
   "cell_type": "code",
   "execution_count": 1,
   "id": "df4d7cd1",
   "metadata": {},
   "outputs": [],
   "source": [
    "import numpy as np"
   ]
  },
  {
   "cell_type": "code",
   "execution_count": null,
   "id": "55bdeb54",
   "metadata": {},
   "outputs": [],
   "source": [
    "class No:\n",
    "    def __init__(self, valor):\n",
    "        self.valor = valor\n",
    "        self.proximo = None\n",
    "    \n",
    "    def mostra_no(self):\n",
    "        print(self.valor)\n",
    "        "
   ]
  },
  {
   "cell_type": "code",
   "execution_count": 3,
   "id": "eaaef7c3",
   "metadata": {},
   "outputs": [],
   "source": [
    "class ListaEncadeada:\n",
    "    def __init__(self):\n",
    "        self.primeiro = None\n",
    "        \n",
    "    def insere_inicio(self, valor):\n",
    "        novo = No(valor)\n",
    "        novo.proximo = self.primeiro\n",
    "        self.primeiro = novo\n",
    "        \n",
    "    def mostrar(self):\n",
    "        atual = self.primeiro\n",
    "        while atual != None:\n",
    "            atual.mostra_no()\n",
    "            atual = atual.proximo\n",
    "            \n",
    "    def excluir_inicio(self):\n",
    "        if self.primeiro == None:\n",
    "            print('Lista vazia')\n",
    "            return None\n",
    "        self.primeiro = self.primeiro.proximo\n",
    "        return temp\n",
    "        \n",
    "        "
   ]
  },
  {
   "cell_type": "code",
   "execution_count": null,
   "id": "83efb868",
   "metadata": {},
   "outputs": [],
   "source": []
  }
 ],
 "metadata": {
  "kernelspec": {
   "display_name": "Python 3 (ipykernel)",
   "language": "python",
   "name": "python3"
  },
  "language_info": {
   "codemirror_mode": {
    "name": "ipython",
    "version": 3
   },
   "file_extension": ".py",
   "mimetype": "text/x-python",
   "name": "python",
   "nbconvert_exporter": "python",
   "pygments_lexer": "ipython3",
   "version": "3.9.7"
  }
 },
 "nbformat": 4,
 "nbformat_minor": 5
}
