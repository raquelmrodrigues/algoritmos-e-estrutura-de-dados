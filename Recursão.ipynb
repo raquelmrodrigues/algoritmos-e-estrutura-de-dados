{
 "cells": [
  {
   "cell_type": "code",
   "execution_count": 5,
   "id": "2f47dba8",
   "metadata": {},
   "outputs": [],
   "source": [
    "def soma1(n):\n",
    "    soma = 0\n",
    "    for i in range(n + 1):\n",
    "        soma += i\n",
    "    return soma"
   ]
  },
  {
   "cell_type": "code",
   "execution_count": 6,
   "id": "aeac4cf5",
   "metadata": {},
   "outputs": [
    {
     "data": {
      "text/plain": [
       "15"
      ]
     },
     "execution_count": 6,
     "metadata": {},
     "output_type": "execute_result"
    }
   ],
   "source": [
    "soma1(5)"
   ]
  },
  {
   "cell_type": "code",
   "execution_count": 7,
   "id": "443c0800",
   "metadata": {},
   "outputs": [],
   "source": [
    "def soma2(n):\n",
    "    if n == 0:\n",
    "        return 0\n",
    "    \n",
    "    return n + soma2(n - 1)"
   ]
  },
  {
   "cell_type": "code",
   "execution_count": 8,
   "id": "c54c3962",
   "metadata": {},
   "outputs": [
    {
     "data": {
      "text/plain": [
       "15"
      ]
     },
     "execution_count": 8,
     "metadata": {},
     "output_type": "execute_result"
    }
   ],
   "source": [
    "soma2(5)"
   ]
  },
  {
   "cell_type": "code",
   "execution_count": 11,
   "id": "5c443c99",
   "metadata": {},
   "outputs": [
    {
     "name": "stdout",
     "output_type": "stream",
     "text": [
      "5.41 µs ± 468 ns per loop (mean ± std. dev. of 7 runs, 100000 loops each)\n"
     ]
    }
   ],
   "source": [
    "%timeit soma1(100)"
   ]
  },
  {
   "cell_type": "code",
   "execution_count": 12,
   "id": "77901bf7",
   "metadata": {},
   "outputs": [
    {
     "name": "stdout",
     "output_type": "stream",
     "text": [
      "17.4 µs ± 165 ns per loop (mean ± std. dev. of 7 runs, 100000 loops each)\n"
     ]
    }
   ],
   "source": [
    "%timeit soma2(100)"
   ]
  },
  {
   "cell_type": "markdown",
   "id": "db56aa42",
   "metadata": {},
   "source": [
    "# Exercicios"
   ]
  },
  {
   "cell_type": "markdown",
   "id": "b1fcbf2d",
   "metadata": {},
   "source": [
    "1 - O fatorial de um número inteiro m não negativo, é indicado por m! (lê-se \"m fatorial\") e é definido pela relação:\n",
    "\n",
    "m!=m⋅(m−1)⋅(m−2)⋅(m−3)...3⋅2⋅1, para m ≥ 2.\n",
    "\n",
    "Algumas definições são:\n",
    "\n",
    "- 1! = 1 (fatorial de 1) - critério de parada\n",
    "\n",
    "- 0! = 1 (fatorial de 0)\n",
    "\n",
    "Exemplos:\n",
    "\n",
    "- 3! = 3 . 2 . 1 = 6\n",
    "\n",
    "- 4! = 4 . 3 . 2 . 1 = 24\n",
    "\n",
    "- 6! = 6 . 5 . 4 . 3 . 2 . 1 = 720"
   ]
  },
  {
   "cell_type": "code",
   "execution_count": 13,
   "id": "9074ac06",
   "metadata": {},
   "outputs": [],
   "source": [
    "def fatorial(n):\n",
    "    if n == 0:\n",
    "        return 1\n",
    "    return n * fatorial(n - 1)"
   ]
  },
  {
   "cell_type": "code",
   "execution_count": 15,
   "id": "4abbd719",
   "metadata": {},
   "outputs": [
    {
     "data": {
      "text/plain": [
       "6"
      ]
     },
     "execution_count": 15,
     "metadata": {},
     "output_type": "execute_result"
    }
   ],
   "source": [
    "fatorial(3)"
   ]
  },
  {
   "cell_type": "code",
   "execution_count": null,
   "id": "ccf045bd",
   "metadata": {},
   "outputs": [],
   "source": [
    "2 - Crie uma função recursiva que calcule o valor de a (base) \n",
    "elevado a b (expoente)\n",
    "\n",
    "- Se o expoente for zero, a potência é igual 1 (critério de parada)\n",
    "\n",
    "- Não considere exponenciação de números negativos"
   ]
  },
  {
   "cell_type": "code",
   "execution_count": 16,
   "id": "75950231",
   "metadata": {},
   "outputs": [],
   "source": [
    "def potencia(base, expoente):\n",
    "    if expoente == 0:\n",
    "        return 1\n",
    "    return base * potencia(base, expoente -1)"
   ]
  },
  {
   "cell_type": "code",
   "execution_count": 17,
   "id": "4aae72cd",
   "metadata": {},
   "outputs": [
    {
     "data": {
      "text/plain": [
       "4"
      ]
     },
     "execution_count": 17,
     "metadata": {},
     "output_type": "execute_result"
    }
   ],
   "source": [
    "potencia(2, 2)"
   ]
  },
  {
   "cell_type": "code",
   "execution_count": null,
   "id": "33979be8",
   "metadata": {},
   "outputs": [],
   "source": []
  }
 ],
 "metadata": {
  "kernelspec": {
   "display_name": "Python 3 (ipykernel)",
   "language": "python",
   "name": "python3"
  },
  "language_info": {
   "codemirror_mode": {
    "name": "ipython",
    "version": 3
   },
   "file_extension": ".py",
   "mimetype": "text/x-python",
   "name": "python",
   "nbconvert_exporter": "python",
   "pygments_lexer": "ipython3",
   "version": "3.9.7"
  }
 },
 "nbformat": 4,
 "nbformat_minor": 5
}
