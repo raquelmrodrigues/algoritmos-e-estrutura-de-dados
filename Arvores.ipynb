{
 "cells": [
  {
   "cell_type": "markdown",
   "id": "243d66bd",
   "metadata": {},
   "source": [
    "# Árvores binárias de busca"
   ]
  },
  {
   "cell_type": "code",
   "execution_count": 3,
   "id": "d13b4780",
   "metadata": {},
   "outputs": [],
   "source": [
    "class No:\n",
    "    def __init__(self, valor):\n",
    "        self.valor = valor\n",
    "        self.esquerda = None\n",
    "        self.direita = None\n",
    "    def mostra_no(self):\n",
    "        print(self.valor)"
   ]
  },
  {
   "cell_type": "code",
   "execution_count": 17,
   "id": "86261bf7",
   "metadata": {},
   "outputs": [],
   "source": [
    "class ArvoreBinariaBusca:\n",
    "    def __init__(self):\n",
    "        self.raiz = None\n",
    "        self.ligacoes = []\n",
    "    \n",
    "    def inserir(self, valor):\n",
    "        novo = No(valor)\n",
    "        # se a arvore estiver vazia\n",
    "        if self.raiz == None:\n",
    "            self.raiz = novo\n",
    "        else:\n",
    "            atual = self.raiz\n",
    "            while True:\n",
    "                pai = atual\n",
    "                #esquerda\n",
    "                if valor < atual.valor:\n",
    "                    atual = atual.esquerda\n",
    "                    if atual == None:\n",
    "                        pai.esquerda = novo\n",
    "                        self.ligacoes.append(str(pai.valor) + '->' + str(novo.valor))\n",
    "                        return\n",
    "                #direita\n",
    "                else:\n",
    "                    atual = atual.direita\n",
    "                    if atual == None:\n",
    "                        pai.direita = novo\n",
    "                        self.ligacoes.append(str(pai.valor) + '->' + str(novo.valor))\n",
    "                        return\n",
    "                    \n",
    "    def pesquisar(self, valor):\n",
    "        atual = self.raiz\n",
    "        while atual.valor != valor:\n",
    "            if valor < atual.valor:\n",
    "                atual = atual.esquerda\n",
    "            else:\n",
    "                atual = atual.direita\n",
    "            if atual == None:\n",
    "                return None\n",
    "        return atual"
   ]
  },
  {
   "cell_type": "markdown",
   "id": "c3af9c88",
   "metadata": {},
   "source": [
    "### Inserção"
   ]
  },
  {
   "cell_type": "code",
   "execution_count": 18,
   "id": "505a68d6",
   "metadata": {},
   "outputs": [],
   "source": [
    "arvore = ArvoreBinariaBusca()\n",
    "arvore.inserir(53)\n",
    "arvore.inserir(30)\n",
    "arvore.inserir(14)\n",
    "arvore.inserir(39)\n",
    "arvore.inserir(9)\n",
    "arvore.inserir(23)\n",
    "arvore.inserir(34)\n",
    "arvore.inserir(49)\n",
    "arvore.inserir(72)\n",
    "arvore.inserir(61)\n",
    "arvore.inserir(84)\n",
    "arvore.inserir(79)"
   ]
  },
  {
   "cell_type": "markdown",
   "id": "cd636818",
   "metadata": {},
   "source": [
    "### Pesquisar"
   ]
  },
  {
   "cell_type": "code",
   "execution_count": 19,
   "id": "6a762431",
   "metadata": {},
   "outputs": [
    {
     "data": {
      "text/plain": [
       "<__main__.No at 0x1bddb01d520>"
      ]
     },
     "execution_count": 19,
     "metadata": {},
     "output_type": "execute_result"
    }
   ],
   "source": [
    "arvore.pesquisar(39)"
   ]
  },
  {
   "cell_type": "code",
   "execution_count": null,
   "id": "04b72a43",
   "metadata": {},
   "outputs": [],
   "source": []
  }
 ],
 "metadata": {
  "kernelspec": {
   "display_name": "Python 3",
   "language": "python",
   "name": "python3"
  },
  "language_info": {
   "codemirror_mode": {
    "name": "ipython",
    "version": 3
   },
   "file_extension": ".py",
   "mimetype": "text/x-python",
   "name": "python",
   "nbconvert_exporter": "python",
   "pygments_lexer": "ipython3",
   "version": "3.8.8"
  }
 },
 "nbformat": 4,
 "nbformat_minor": 5
}
