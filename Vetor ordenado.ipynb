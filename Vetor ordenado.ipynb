{
 "cells": [
  {
   "cell_type": "markdown",
   "id": "d1096558",
   "metadata": {},
   "source": [
    "# Vetor ordenado"
   ]
  },
  {
   "cell_type": "code",
   "execution_count": 1,
   "id": "e2ee1072",
   "metadata": {},
   "outputs": [],
   "source": [
    "import numpy as np"
   ]
  },
  {
   "cell_type": "code",
   "execution_count": 1,
   "id": "9b7f8f7b",
   "metadata": {},
   "outputs": [],
   "source": [
    "class VetorOrdenado:\n",
    "    def __init__(self, capacidade):\n",
    "        self.capacidade = capacidade\n",
    "        self.ultima_posicao = -1\n",
    "        self.valores = np.empty(self.capacidade, dtype=int)\n",
    "    \n",
    "    # O(n)\n",
    "    def imprime(self):\n",
    "        if self.ultima_posicao == -1:\n",
    "            print('O vetor está vazio')\n",
    "        else:\n",
    "            for i in range(self.ultima_posicao + 1):\n",
    "                print(i, '-', self.valores[i])\n",
    "                \n",
    "    def insere(self, valor):\n",
    "        if self.ultima_posicao == self.capacidade - 1:\n",
    "            print('capacidade máxima atingida')\n",
    "        return\n",
    "    \n",
    "        posicao = 0\n",
    "        for i in range(self.ultima_posicao + 1):\n",
    "            posicao = i\n",
    "            if self.valores[i] > valor:\n",
    "                break\n",
    "            if i == self.ultima_posicao:\n",
    "                posicao = i + 1\n",
    "            \n",
    "        x = self.ultima_posicao\n",
    "        while x >= posicao:\n",
    "            self.valores[x + 1] = self.valores[x]\n",
    "            x -= 1\n",
    "        \n",
    "        self.valores[posicao] = valor\n",
    "        self.ultima_posicao += 1\n",
    "        \n",
    "    def pesquisa_linear(self, valor):\n",
    "        for i in range(self.ultima_posicao + 1):\n",
    "            if self.valores[i] > valor:\n",
    "                return -1\n",
    "            if self.valores[i] == valor:\n",
    "                return i\n",
    "            if i == self.ultima_posicao:\n",
    "                return -1\n",
    "            \n",
    "    def pesquisa_binaria():\n",
    "        limite_inferior = 0\n",
    "        limite_superior = self.ultima_posicao\n",
    "        \n",
    "        while True:\n",
    "            posicao_atual = int((limite_inferior + limite_superior) / 2)\n",
    "            \n",
    "            #se achou na primeira tentativa\n",
    "            if self.valores[posicao_atual] == valor:\n",
    "                return posicao_atual\n",
    "            #se não achou\n",
    "            elif limite_inferior > limite_superior:\n",
    "                return -1\n",
    "            #divide os limites\n",
    "            else:\n",
    "                #limite inferior\n",
    "                if self.valores[posicao_atual] < valor:\n",
    "                    limite_inferior = posicao_atual + 1\n",
    "                else:\n",
    "                    limite_superior = posicao_atual - 1\n",
    "        \n",
    "            \n",
    "    def excluir(self, valor):\n",
    "        posicao = self.pesquisar(valor)\n",
    "        if posicao == -1:\n",
    "            return -1\n",
    "        else:\n",
    "            for i in range(posicao, self.ultima_posicao):\n",
    "                self.valore[i] = self.valores[i + 1]\n",
    "                \n",
    "            self.ultima_posicao -= 1\n",
    "            \n",
    "    "
   ]
  },
  {
   "cell_type": "code",
   "execution_count": null,
   "id": "960b69f5",
   "metadata": {},
   "outputs": [],
   "source": []
  }
 ],
 "metadata": {
  "kernelspec": {
   "display_name": "Python 3 (ipykernel)",
   "language": "python",
   "name": "python3"
  },
  "language_info": {
   "codemirror_mode": {
    "name": "ipython",
    "version": 3
   },
   "file_extension": ".py",
   "mimetype": "text/x-python",
   "name": "python",
   "nbconvert_exporter": "python",
   "pygments_lexer": "ipython3",
   "version": "3.9.7"
  }
 },
 "nbformat": 4,
 "nbformat_minor": 5
}
