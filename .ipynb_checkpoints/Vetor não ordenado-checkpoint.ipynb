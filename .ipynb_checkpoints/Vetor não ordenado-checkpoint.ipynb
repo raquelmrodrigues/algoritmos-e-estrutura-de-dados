{
 "cells": [
  {
   "cell_type": "markdown",
   "id": "5cbb1a5f",
   "metadata": {},
   "source": [
    "# Vetor não ordenado"
   ]
  },
  {
   "cell_type": "code",
   "execution_count": 1,
   "id": "e7db7cd1",
   "metadata": {},
   "outputs": [],
   "source": [
    "import numpy as np"
   ]
  },
  {
   "cell_type": "code",
   "execution_count": 17,
   "id": "ebfc978f",
   "metadata": {},
   "outputs": [],
   "source": [
    "class VetorNaoOrdenado:\n",
    "    def __init__(self, capacidade):\n",
    "        self.capacidade = capacidade\n",
    "        self.ultima_posicao = -1\n",
    "        self.valores = np.empty(self.capacidade, dtype=int)\n",
    "    \n",
    "    # O(n)\n",
    "    def imprime(self):\n",
    "        if self.ultima_posicao == -1:\n",
    "            print('O vetor está vazio')\n",
    "        else:\n",
    "            for i in range(self.ultima_posicao + 1):\n",
    "                print(i, '-', self.valores[i])\n",
    "                \n",
    "    #O(1)            \n",
    "    def insere(self, valor):\n",
    "        if self.ultima_posicao == self.capacidade - 1:\n",
    "            print('Capacidade máxima atingida')\n",
    "        else:\n",
    "            self.ultima_posicao += 1\n",
    "            self.valores[self.ultima_posicao] = valor\n",
    "            \n",
    "    def pesquisar(self, valor):\n",
    "        for i in range(self.ultima_posicao + 1):\n",
    "            if valor == self.valores[i]:\n",
    "                return\n",
    "            return -1\n",
    "     \n",
    "    # O(n)\n",
    "    def excluir(self, valor):\n",
    "        posicao = self.pesquisar(valor)\n",
    "        if posicao == -1:\n",
    "            return -1\n",
    "        else:\n",
    "            for i in range(posicao, self.ultima_posicao):\n",
    "                self.valore[i] = self.valores[i + 1]\n",
    "                \n",
    "            self.ultima_posicao -= 1"
   ]
  },
  {
   "cell_type": "code",
   "execution_count": 18,
   "id": "eba2d013",
   "metadata": {},
   "outputs": [],
   "source": [
    "vetor = VetorNaoOrdenado(5)"
   ]
  },
  {
   "cell_type": "code",
   "execution_count": 19,
   "id": "d929e687",
   "metadata": {},
   "outputs": [
    {
     "name": "stdout",
     "output_type": "stream",
     "text": [
      "O vetor está vazio\n"
     ]
    }
   ],
   "source": [
    "vetor.imprime()"
   ]
  },
  {
   "cell_type": "code",
   "execution_count": 25,
   "id": "2a77a26c",
   "metadata": {},
   "outputs": [
    {
     "name": "stdout",
     "output_type": "stream",
     "text": [
      "Capacidade máxima atingida\n",
      "Capacidade máxima atingida\n",
      "Capacidade máxima atingida\n"
     ]
    }
   ],
   "source": [
    "vetor.insere(2)\n",
    "vetor.insere(2)\n",
    "vetor.insere(3)\n",
    "vetor.insere(4)"
   ]
  },
  {
   "cell_type": "code",
   "execution_count": 26,
   "id": "3e424a11",
   "metadata": {},
   "outputs": [
    {
     "name": "stdout",
     "output_type": "stream",
     "text": [
      "0 - 2\n",
      "1 - 2\n",
      "2 - 3\n",
      "3 - 4\n",
      "4 - 2\n"
     ]
    }
   ],
   "source": [
    "vetor.imprime()"
   ]
  }
 ],
 "metadata": {
  "kernelspec": {
   "display_name": "Python 3 (ipykernel)",
   "language": "python",
   "name": "python3"
  },
  "language_info": {
   "codemirror_mode": {
    "name": "ipython",
    "version": 3
   },
   "file_extension": ".py",
   "mimetype": "text/x-python",
   "name": "python",
   "nbconvert_exporter": "python",
   "pygments_lexer": "ipython3",
   "version": "3.9.7"
  }
 },
 "nbformat": 4,
 "nbformat_minor": 5
}
