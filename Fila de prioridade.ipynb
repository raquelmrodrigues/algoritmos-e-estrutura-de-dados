{
 "cells": [
  {
   "cell_type": "code",
   "execution_count": 1,
   "id": "4861218f",
   "metadata": {},
   "outputs": [],
   "source": [
    "import numpy as np"
   ]
  },
  {
   "cell_type": "code",
   "execution_count": 7,
   "id": "5221784f",
   "metadata": {},
   "outputs": [],
   "source": [
    "class FilaPrioridade:\n",
    "    def __init__(self, capacidade):\n",
    "        self.capacidade = capacidade\n",
    "        self.numero_elementos = 0\n",
    "        self.valores = np.empty(self.capacidade, dtype=int)\n",
    "        \n",
    "    def __fila_vazia(self):\n",
    "        return self.numero_elementos == 0\n",
    "    \n",
    "    def __fila_cheia(self):\n",
    "        return self.numero_elementos == self.capacidade\n",
    "    \n",
    "    def enfileirar(self, valor):\n",
    "        if self.__fila_cheia:\n",
    "            print('A fila está cheia')\n",
    "            return\n",
    "        if self.numero_elementos == 0:\n",
    "            self.valores[self.numero_elementos] = valor\n",
    "            self.numero_elementos += 1\n",
    "        else:\n",
    "            x = self.numero_elementos - 1\n",
    "            while x >= 0:\n",
    "                if valor > self.valores[x]:\n",
    "                    self.valores[x + 1] = self.valores[x]\n",
    "                else:\n",
    "                    break\n",
    "                x -= 1\n",
    "            self.valores[x + 1] = valor\n",
    "            self.numero_elementos += 1\n",
    "            \n",
    "    def desenfileirar(self):\n",
    "        if self.__fila_vazia():\n",
    "            print('A fila está vazia')\n",
    "            return\n",
    "        valor = self.valores[self.numero_elementos -1]\n",
    "        self.numero_elementos -+ 1\n",
    "        return\n",
    "    \n",
    "    def primeiro(self):\n",
    "        if self.__fila_vazia():\n",
    "            return -1\n",
    "        return self.valores[self.numero_elementos - 1]"
   ]
  }
 ],
 "metadata": {
  "kernelspec": {
   "display_name": "Python 3",
   "language": "python",
   "name": "python3"
  },
  "language_info": {
   "codemirror_mode": {
    "name": "ipython",
    "version": 3
   },
   "file_extension": ".py",
   "mimetype": "text/x-python",
   "name": "python",
   "nbconvert_exporter": "python",
   "pygments_lexer": "ipython3",
   "version": "3.8.8"
  }
 },
 "nbformat": 4,
 "nbformat_minor": 5
}
