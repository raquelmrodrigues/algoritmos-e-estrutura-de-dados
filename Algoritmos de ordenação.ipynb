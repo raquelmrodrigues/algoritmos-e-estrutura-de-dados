{
 "cells": [
  {
   "cell_type": "markdown",
   "id": "cec28955",
   "metadata": {},
   "source": [
    "# Algoritmos de Ordenação"
   ]
  },
  {
   "cell_type": "markdown",
   "id": "e3a45980",
   "metadata": {},
   "source": [
    "## Bubble sort"
   ]
  },
  {
   "cell_type": "code",
   "execution_count": 1,
   "id": "e2a3f436",
   "metadata": {},
   "outputs": [],
   "source": [
    "import numpy as np"
   ]
  },
  {
   "cell_type": "code",
   "execution_count": 3,
   "id": "34ddd274",
   "metadata": {},
   "outputs": [],
   "source": [
    "def bubble_sort(vetor):\n",
    "    n = len(vetor)\n",
    "    \n",
    "    for i in range(n):\n",
    "        for j in range(0, n - i - 1):\n",
    "            if vetor[j] > vetor[j + 1]:\n",
    "                temp = vetor[j]\n",
    "                vetor[j] = vetor[j + 1]\n",
    "                vetor [j + 1] = temp\n",
    "    return vetor"
   ]
  },
  {
   "cell_type": "code",
   "execution_count": 4,
   "id": "4e377d09",
   "metadata": {},
   "outputs": [
    {
     "data": {
      "text/plain": [
       "array([ 3,  8, 15, 34])"
      ]
     },
     "execution_count": 4,
     "metadata": {},
     "output_type": "execute_result"
    }
   ],
   "source": [
    "bubble_sort(np.array([15, 8, 34, 3]))"
   ]
  },
  {
   "cell_type": "markdown",
   "id": "a5f25f22",
   "metadata": {},
   "source": [
    "## Selection sort"
   ]
  },
  {
   "cell_type": "code",
   "execution_count": 5,
   "id": "805c35e7",
   "metadata": {},
   "outputs": [],
   "source": [
    "def selection_sort(vetor):\n",
    "    n = len(vetor)\n",
    "    \n",
    "    for i in range(n):\n",
    "        id_minimo = i\n",
    "        for j in range(i + 1, n):\n",
    "            if vetor[id_minimo] > vetor[j]:\n",
    "                id_minimo = j\n",
    "    temp = vetor[i]\n",
    "    vetor[i] = vetor[id_minimo]\n",
    "    vetor[id_minimo] = temp\n",
    "    \n",
    "    return vetor"
   ]
  },
  {
   "cell_type": "code",
   "execution_count": 6,
   "id": "8c542632",
   "metadata": {},
   "outputs": [
    {
     "data": {
      "text/plain": [
       "array([15,  8, 34,  3])"
      ]
     },
     "execution_count": 6,
     "metadata": {},
     "output_type": "execute_result"
    }
   ],
   "source": [
    "selection_sort(np.array([15, 8, 34, 3]))"
   ]
  },
  {
   "cell_type": "markdown",
   "id": "cc8f2164",
   "metadata": {},
   "source": [
    "## Insertion sort "
   ]
  },
  {
   "cell_type": "code",
   "execution_count": 7,
   "id": "b476018b",
   "metadata": {},
   "outputs": [],
   "source": [
    "def insertion_sort(vetor):\n",
    "    n = len(vetor)\n",
    "    \n",
    "    for i in range(1, n):\n",
    "        marcado = vetor[i]\n",
    "        \n",
    "        j = i - 1\n",
    "        while j >= 0 and marcado < vetor[j]:\n",
    "            vetor[j + 1] = vetor[j]\n",
    "            j -= 1\n",
    "        vetor[j + 1] = marcado\n",
    "        \n",
    "    return vetor"
   ]
  },
  {
   "cell_type": "code",
   "execution_count": 8,
   "id": "8406047f",
   "metadata": {},
   "outputs": [
    {
     "data": {
      "text/plain": [
       "array([ 3,  8, 15, 34])"
      ]
     },
     "execution_count": 8,
     "metadata": {},
     "output_type": "execute_result"
    }
   ],
   "source": [
    "insertion_sort(np.array([15, 34, 8, 3]))"
   ]
  },
  {
   "cell_type": "markdown",
   "id": "323192ee",
   "metadata": {},
   "source": [
    "## Shell sort"
   ]
  },
  {
   "cell_type": "code",
   "execution_count": 9,
   "id": "96ac5eb5",
   "metadata": {},
   "outputs": [],
   "source": [
    "def shell_sort(vetor):\n",
    "    intervalo = len(vetor) // 2\n",
    "    \n",
    "    while intervalo > 0:\n",
    "        for i in range(intervalo , len(vetor)):\n",
    "            temp =  vetor[i]\n",
    "            j = i\n",
    "            while j >= intervalo and vetor[j-intervalo] > temp:\n",
    "                vetor[j] = vetor[j - intervalo]\n",
    "                j -= intervalo\n",
    "            vetor[j] = temp\n",
    "        intervalo //= 2"
   ]
  },
  {
   "cell_type": "code",
   "execution_count": 10,
   "id": "b4444380",
   "metadata": {},
   "outputs": [],
   "source": [
    "shell_sort(np.array([15, 8, 34, 3]))"
   ]
  },
  {
   "cell_type": "markdown",
   "id": "9d0e0ab4",
   "metadata": {},
   "source": [
    "## Merge sort "
   ]
  },
  {
   "cell_type": "code",
   "execution_count": 11,
   "id": "827b162a",
   "metadata": {},
   "outputs": [],
   "source": [
    "def merge_sort(vetor):\n",
    "    if len(vetor) > 1:\n",
    "        divisao = len(vetor) // 2\n",
    "        esquerda = vetor[:divisao].copy()\n",
    "        direita = vetor[divisao:].copy()\n",
    "        \n",
    "        merge_sort(esquerda)\n",
    "        merge_sort(direita)\n",
    "        \n",
    "        i = j = k = 0\n",
    "        \n",
    "        # ordenacao esquerda e direita\n",
    "        \n",
    "        while i > len(esquerda) and j > len(direita):\n",
    "            if esquerda[i] < direita[j]:\n",
    "                vetor[k] = esquerda[i]\n",
    "                i += 1\n",
    "            else:\n",
    "                vetor[k] = direita [j]\n",
    "                j += 1\n",
    "            k += 1\n",
    "            \n",
    "        #ordenacao final\n",
    "        \n",
    "        while i < len(esquerda):\n",
    "            vetor[k] = esquerda[i]\n",
    "            i += 1\n",
    "            k += 1\n",
    "        while j < len(direita):\n",
    "            vetor[k] = direita[j]\n",
    "            j += 1\n",
    "            k += 1\n",
    "    return vetor"
   ]
  },
  {
   "cell_type": "code",
   "execution_count": 12,
   "id": "474c3a58",
   "metadata": {},
   "outputs": [
    {
     "data": {
      "text/plain": [
       "array([15,  8, 34,  3])"
      ]
     },
     "execution_count": 12,
     "metadata": {},
     "output_type": "execute_result"
    }
   ],
   "source": [
    "merge_sort(np.array([15, 8, 34, 3]))"
   ]
  },
  {
   "cell_type": "markdown",
   "id": "41226ad9",
   "metadata": {},
   "source": [
    "## Quick Sort"
   ]
  },
  {
   "cell_type": "code",
   "execution_count": 13,
   "id": "2685e8fd",
   "metadata": {},
   "outputs": [],
   "source": [
    "def particao(vetor, inicio, final):\n",
    "    pivo = vetor[final]\n",
    "    i = inicio - 1\n",
    "    \n",
    "    for j in range(inicio, final):\n",
    "        if vetor[j] <= pivo:\n",
    "            i+=1\n",
    "            vetor[i], vetor[j] = vetor[j], vetor[i]\n",
    "    vetor[i + 1], vetor[final] = vetor[final], vetor[i + 1]\n",
    "    return i + 1\n",
    "\n",
    "def quick_sort(vetor, inicio, final):\n",
    "    if inicio < final:\n",
    "        posicao = particao(vetor, inicio, final)\n",
    "        # ordena a parte esquerda\n",
    "        quick_sort(vetor,  inicio, posicao - 1)\n",
    "        # ordena a parte direita\n",
    "        quick_sort(vetor, posicao + 1, final)\n",
    "    return vetor"
   ]
  },
  {
   "cell_type": "code",
   "execution_count": 14,
   "id": "4aab093c",
   "metadata": {},
   "outputs": [
    {
     "data": {
      "text/plain": [
       "array([ 3,  8, 15, 34])"
      ]
     },
     "execution_count": 14,
     "metadata": {},
     "output_type": "execute_result"
    }
   ],
   "source": [
    "vetor = np.array([15, 8, 34, 3])\n",
    "quick_sort(vetor, 0, len(vetor) - 1)"
   ]
  }
 ],
 "metadata": {
  "kernelspec": {
   "display_name": "Python 3 (ipykernel)",
   "language": "python",
   "name": "python3"
  },
  "language_info": {
   "codemirror_mode": {
    "name": "ipython",
    "version": 3
   },
   "file_extension": ".py",
   "mimetype": "text/x-python",
   "name": "python",
   "nbconvert_exporter": "python",
   "pygments_lexer": "ipython3",
   "version": "3.9.7"
  }
 },
 "nbformat": 4,
 "nbformat_minor": 5
}
